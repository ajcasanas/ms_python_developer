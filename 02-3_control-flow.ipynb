{
 "cells": [
  {
   "cell_type": "code",
   "execution_count": null,
   "id": "a6ee3cab-dae6-43a1-970e-215e657a1e10",
   "metadata": {},
   "outputs": [],
   "source": [
    "CONTROL FLOW\n",
    "# Control flow allows for the mindful collection and storage of data, \n",
    "# without it could lead to duplicate account or security issues when creating a user registration\n",
    "# for a restricted website. With control flow, we can validate input (such as ensuring strong \n",
    "# passwords), check for duplicates, and provide feedback to the user if there are any problems."
   ]
  },
  {
   "cell_type": "code",
   "execution_count": null,
   "id": "ecc8382a-f9bd-47c9-97d2-18791860b7e1",
   "metadata": {},
   "outputs": [],
   "source": [
    "CONDITIONAL STATEMENTS: IF, ELSE, ELIF\n",
    "# if and else statements are the cornerstone of condition statements"
   ]
  },
  {
   "cell_type": "code",
   "execution_count": null,
   "id": "7bfec87f-5639-473e-b187-db08821872c1",
   "metadata": {},
   "outputs": [],
   "source": [
    "IF, ELSE EXAMPLE\n",
    "# this code takes a temperature and outputs a statement based on 2 conditions:\n",
    "# warm or cold\n",
    "temperature = 22  # Example temperature\n",
    "\n",
    "if temperature < 20:  # cold\n",
    "    print(\"It might be cold! You might need a jacket.\")\n",
    "else:  # warm\n",
    "    print(\"It's warm! Enjoy the sunshine.\")"
   ]
  },
  {
   "cell_type": "code",
   "execution_count": null,
   "id": "384920a6-5e97-447a-b40d-f9772b201635",
   "metadata": {},
   "outputs": [],
   "source": [
    "IF, ELSE, ELIF EXAMPLE\n",
    "# elif expands on the if and else statements by allowing more than 2 conditions\n",
    "\n",
    "# this code takes a temperature and outputs a statement based on 4 conditions:\n",
    "# cold, chilly, pleasant, or hot\n",
    "temperature = 15  # Let's assume the temperature is 15 degrees Celsius\n",
    "\n",
    "if temperature < 10:  # cold\n",
    "    print(\"Wear a jacket! It's cold out there.\")\n",
    "elif 10 <= temperature < 20:  # chilly\n",
    "    print(\"A light sweater should be fine. It's a bit chilly.\")\n",
    "elif 20 <= temperature < 30:  # pleasant\n",
    "    print(\"Enjoy the pleasant weather! No need for extra layers.\")\n",
    "else:  # hot\n",
    "    print(\"It's hot! Stay hydrated and wear sunscreen.\")"
   ]
  },
  {
   "cell_type": "code",
   "execution_count": null,
   "id": "aea1df85-05b1-4d19-9e88-ba2d3af0a3ff",
   "metadata": {},
   "outputs": [],
   "source": [
    "FOR LOOPS REVIEW\n",
    "# for loops are perfect when you know the desired repetition count in advance.\n",
    "\n",
    "# Example: Print numbers from 1 to 5\n",
    "for i in range(1, 6):\n",
    "    print(i)"
   ]
  },
  {
   "cell_type": "code",
   "execution_count": null,
   "id": "12febb46-e475-4515-a0a8-fb640d40a0bd",
   "metadata": {},
   "outputs": [],
   "source": [
    "WHILE LOOPS REVIEW\n",
    "# while loops continue as long as a condition holds true\n",
    "\n",
    "# Example: Keeps asking for input until the user enters \"quit\"\n",
    "user_input = \"\"\n",
    "while user_input != \"quit\":\n",
    "    user_input = input(\"Enter something (or 'quit' to exit): \")\n",
    "    print(\"You entered:\", user_input)"
   ]
  },
  {
   "cell_type": "code",
   "execution_count": null,
   "id": "8103aeb1-2c1c-4a45-8fe0-21167bbdfed0",
   "metadata": {},
   "outputs": [],
   "source": [
    "REAL WORLD APPLICATIONS\n",
    "# Game Development: conditional statements like if check if a player collides with obstacles.\n",
    "    # Loops like while might continuously update a characters position and timer as long as the \n",
    "    # level is in progress\n",
    "# Web Development: conditional statements like if might determine which page to displayed based\n",
    "    # on a user's login status.\n",
    "    # Loops like for could generate a list of product recommendations based on a user's browsing\n",
    "    # history or create a dynamic dropdown menu populated with options from a database.\n",
    "# Data Analysis: conditional statement like if could filter out irrelevant data, like removing\n",
    "    # incomplete surveys or outliers that could skew the results of an analysis\n",
    "    # Loops like for might iterate through a dataset containing thousands of customer reviews\n",
    "# Automation: conditional statements like if could decide whether to send a reminder remial based\n",
    "    # on the due date of an invoice, or a firmer email sent if invoice overdue\n",
    "    # Loops like while might keep checking an inbox for new emails, and when it finds one, \n",
    "    # automatically generate a reply or forward it to a specific department"
   ]
  },
  {
   "cell_type": "code",
   "execution_count": null,
   "id": "e15166d6-6c46-4520-94c5-474d0c84e5b6",
   "metadata": {},
   "outputs": [],
   "source": [
    "CODING CHALLENGE: ODD NUMBER\n",
    "# Write a Python program that takes in a list of numbers and iterates for each number and \n",
    "    # checks if it is even or odd.\n",
    "# Iterate over a number list: Write a Python program that takes in a list of numbers and \n",
    "    # iterates for each number and checks if it is even or odd.\n",
    "# Check even/odd: Use a conditional statement to determine if each number is even or odd.\n",
    "# Display output: Print a message indicating whether the numbers are even or odd.\n",
    "\n",
    "### Your code here\n",
    "numbers = [1, 2, 3, 4, 5]\n",
    "\n",
    "for number in numbers:\n",
    "    if number % 2 == 0:\n",
    "        print(number, \"is even\")\n",
    "    else:\n",
    "        print(number, \"is odd\")"
   ]
  },
  {
   "cell_type": "code",
   "execution_count": null,
   "id": "9555ce8f-f2f8-41b7-9b8a-7e52d1956292",
   "metadata": {},
   "outputs": [],
   "source": [
    "CODE CHALLENGE: COUNTDOWN TIMER\n",
    "# this code makes a timer countdown from 10 to 0 and indicates halfway point\n",
    "timer = 10\n",
    "\n",
    "for num in range(timer+1):\n",
    "    print(timer)\n",
    "    timer -= 1\n",
    "    if num == 5:\n",
    "        print(\"Halfway point reached!\")"
   ]
  }
 ],
 "metadata": {
  "kernelspec": {
   "display_name": "Python 3 (ipykernel)",
   "language": "python",
   "name": "python3"
  },
  "language_info": {
   "codemirror_mode": {
    "name": "ipython",
    "version": 3
   },
   "file_extension": ".py",
   "mimetype": "text/x-python",
   "name": "python",
   "nbconvert_exporter": "python",
   "pygments_lexer": "ipython3",
   "version": "3.12.7"
  }
 },
 "nbformat": 4,
 "nbformat_minor": 5
}
