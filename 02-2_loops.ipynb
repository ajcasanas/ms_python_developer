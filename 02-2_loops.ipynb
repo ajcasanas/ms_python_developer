{
 "cells": [
  {
   "cell_type": "code",
   "execution_count": null,
   "id": "3a946584-9f48-40c7-95f5-d1ece2b57916",
   "metadata": {},
   "outputs": [],
   "source": [
    "CONDITIONAL STATEMENTS"
   ]
  },
  {
   "cell_type": "code",
   "execution_count": null,
   "id": "761dda4d-7388-4a15-9fd2-c4ad4d91c0db",
   "metadata": {},
   "outputs": [],
   "source": [
    "FOR AND WHILE LOOPS"
   ]
  },
  {
   "cell_type": "code",
   "execution_count": null,
   "id": "d35c0fdb-1544-4c3e-8eb9-15076c109221",
   "metadata": {},
   "outputs": [],
   "source": [
    "for and while loops: allows iterate over sequences, \n",
    "execute code blocks based on conditions, \n",
    "and automate tasks that would otherwise be tedious and error-prone."
   ]
  },
  {
   "cell_type": "code",
   "execution_count": null,
   "id": "a99c4bda-9051-4841-b1bd-54fb9eb2f62b",
   "metadata": {},
   "outputs": [],
   "source": [
    "Loops are particularly crucial in fields such as data science, web development, \n",
    "and automation, where handling large volumes of data and repetitive operations are routine tasks."
   ]
  },
  {
   "cell_type": "code",
   "execution_count": null,
   "id": "8ff5a349-d924-40f0-8bda-466d8a36874a",
   "metadata": {},
   "outputs": [],
   "source": [
    "for loops: Designed for iterating over sequences like lists, tuples, strings, and ranges.  \n",
    "A for loop can be used to iterate over a range of numbers (often referred to as a \"for i\" loop), \n",
    "or over a sequence of values (referred to as a \"for each\" loop)."
   ]
  },
  {
   "cell_type": "code",
   "execution_count": null,
   "id": "21115d86-21a3-4920-b4dc-cebd1e03427e",
   "metadata": {},
   "outputs": [],
   "source": [
    "The range() function generates a sequence of numbers, \n",
    "and the for loop iterates over this sequence. \n",
    "This for loop continues to execute the print statement \n",
    "and increases the i variable automatically. \n",
    "These loops are particularly suited for situations where the number of iterations is known."
   ]
  },
  {
   "cell_type": "code",
   "execution_count": null,
   "id": "f2bd8d86-9966-4f04-842d-cbc2177999db",
   "metadata": {},
   "outputs": [],
   "source": [
    "# for i loop\n",
    "for i in range(start, end):\n",
    "    # Code block to be executed repeatedly"
   ]
  },
  {
   "cell_type": "code",
   "execution_count": null,
   "id": "a46eda9a-56bc-4f1e-b8ca-36980ea83f1b",
   "metadata": {},
   "outputs": [],
   "source": [
    "# the end number does not actually get processed\n",
    "for i in range(1,11): # This loop prints 1 through 10, not through 11\n",
    "    print(i)"
   ]
  },
  {
   "cell_type": "code",
   "execution_count": null,
   "id": "e3ee1b1c-ff26-4d2b-b27e-fee7c44d81aa",
   "metadata": {},
   "outputs": [],
   "source": [
    "while loops: Execute as long as a specified condition remains true. \n",
    "These are often used to run until a condition is met.  "
   ]
  },
  {
   "cell_type": "code",
   "execution_count": null,
   "id": "13679ab2-b526-4f85-9bd8-50ca5a63e1ff",
   "metadata": {},
   "outputs": [],
   "source": [
    "This while loop continues to execute the print statement \n",
    "and increase the number variable as long as the condition number <= 10 holds true. \n",
    "Though while loops are particularly useful when the number of \n",
    "iterations is not known beforehand, as the loop continues until a specific condition is met, \n",
    "this specific example is best implemented using a for loop"
   ]
  },
  {
   "cell_type": "code",
   "execution_count": null,
   "id": "ea7f9bd9-bea7-40ff-ab4b-3875217eb4eb",
   "metadata": {},
   "outputs": [],
   "source": [
    "while condition:\n",
    "    # Code block to be executed repeatedly"
   ]
  },
  {
   "cell_type": "code",
   "execution_count": null,
   "id": "32d419cb-99e1-42ac-b1d7-111e597eeef1",
   "metadata": {},
   "outputs": [],
   "source": [
    "# this is the same counting scenario as the for loop, but it's more complicated:  \n",
    "number = 1\n",
    "while number <= 10:\n",
    "    print(number) \n",
    "    number = number + 1"
   ]
  },
  {
   "cell_type": "code",
   "execution_count": null,
   "id": "4e50ef34-05f7-4f8f-8b1a-ced969fbe22c",
   "metadata": {},
   "outputs": [],
   "source": [
    "while loops are often used in game development: \n",
    "A while loop can keep a game running until a certain condition is met, \n",
    "such as the player reaching a specific score or losing all their lives, \n",
    "ensuring the game continues as long as necessary. \n",
    "This flexibility makes while loops suitable for tasks where the termination condition \n",
    "is dynamic or depends on the outcome of the loop's body."
   ]
  },
  {
   "cell_type": "code",
   "execution_count": null,
   "id": "e0e33854-e848-48ad-855a-6d10cfa9090d",
   "metadata": {},
   "outputs": [],
   "source": [
    "User input validation: You might use a while loop to repeatedly prompt a user \n",
    "for input until they provide data in the correct format (e.g., a valid email address), \n",
    "guaranteeing the program receives usable information."
   ]
  },
  {
   "cell_type": "code",
   "execution_count": null,
   "id": "45170ea8-bf6e-4dfe-bcdf-c392b1c76fa8",
   "metadata": {},
   "outputs": [],
   "source": [
    "# user access a menu of options, selects 4 to exit program\n",
    "option = 0\n",
    "while option != 4:\n",
    "    print(\"1. Perform action 1\")\n",
    "    print(\"2. Perform action 2\")\n",
    "    print(\"3. Perform action 3\")\n",
    "    print(\"4. Quit\")"
   ]
  },
  {
   "cell_type": "code",
   "execution_count": null,
   "id": "13619b85-a904-4b01-86e6-9a4a34830789",
   "metadata": {},
   "outputs": [],
   "source": [
    "LISTS AND LOOPS"
   ]
  },
  {
   "cell_type": "code",
   "execution_count": null,
   "id": "77d744b0-b793-451c-b6d1-d668e4beb52e",
   "metadata": {},
   "outputs": [],
   "source": [
    "A list is a data structure that stores an ordered collection of items. \n",
    "These items, referred to as elements, can be of any data type."
   ]
  },
  {
   "cell_type": "code",
   "execution_count": null,
   "id": "eb0f931f-5491-4262-b2e6-d64dd9b5dc82",
   "metadata": {},
   "outputs": [],
   "source": [
    "# This is a list\n",
    "fruits = [\"apple\", \"banana\", \"cherry\"]\n"
   ]
  },
  {
   "cell_type": "code",
   "execution_count": null,
   "id": "f0773dbd-0a57-4083-9f5a-bcac841add92",
   "metadata": {},
   "outputs": [],
   "source": [
    "Each element in a list is assigned a numerical index, starting from zero. \n",
    "This index represents the element's position within the list. \n",
    "To access a specific element, its index is used within square brackets following the list's name.\n",
    "For example, to retrieve the first element (\"apple\") from the fruits list, one would use:"
   ]
  },
  {
   "cell_type": "code",
   "execution_count": null,
   "id": "d0054958-b5d8-4edd-8ab7-880ecd034921",
   "metadata": {},
   "outputs": [],
   "source": [
    "# Retrieves first element in fruits variable above\n",
    "first_fruit = fruits[0]"
   ]
  },
  {
   "cell_type": "code",
   "execution_count": null,
   "id": "4d633ce8-a511-4096-9f65-cb290c179370",
   "metadata": {},
   "outputs": [],
   "source": [
    "A commonly used list feature is len, which can be used to determine how many \n",
    "elements are in a list."
   ]
  },
  {
   "cell_type": "code",
   "execution_count": null,
   "id": "66f43bb1-c36f-4df5-a765-99658ff59bb9",
   "metadata": {},
   "outputs": [],
   "source": [
    "# the following code would print the number 3, as there are three elements in the fruit list\n",
    "fruits = [\"apple\", \"banana\", \"cherry\"]\n",
    "fruit_length = len(fruits)\n",
    "print(fruit_length)"
   ]
  },
  {
   "cell_type": "code",
   "execution_count": null,
   "id": "758964ce-bc49-458d-b790-f8454f67e0af",
   "metadata": {},
   "outputs": [],
   "source": [
    "Lists can also have new values added to them."
   ]
  },
  {
   "cell_type": "code",
   "execution_count": null,
   "id": "f2614fa7-3fc9-402b-92f2-61e0f5356614",
   "metadata": {},
   "outputs": [],
   "source": [
    "# this code adds \"date\" to the list of fruits\n",
    "fruits.append(\"date\")"
   ]
  },
  {
   "cell_type": "code",
   "execution_count": null,
   "id": "42a86032-2c62-4e6e-a810-9a9727988add",
   "metadata": {},
   "outputs": [],
   "source": [
    "lists is traversal, which involves accessing each element sequentially.  \n",
    "Here, for loops are particularly well-suited for this task. \n",
    "This type of for loop is often referred to as a for each loop, \n",
    "because it allows you to traverse each individual element, one at a time."
   ]
  },
  {
   "cell_type": "code",
   "execution_count": null,
   "id": "e4aeba39-9809-4e77-ab25-ef0d1cbc1781",
   "metadata": {},
   "outputs": [],
   "source": [
    "# this code outputs a greeting to every student\n",
    "students = [\"Alice\", \"Bob\", \"Charlie\"]\n",
    "for student in students:\n",
    "    print(\"Hello,\", student)"
   ]
  },
  {
   "cell_type": "code",
   "execution_count": null,
   "id": "f529c2f5-c6d2-41cc-870e-23c39473c542",
   "metadata": {},
   "outputs": [],
   "source": [
    "This approach is cleaner and more concise than manually indexing into the \n",
    "list and printing each element individually."
   ]
  },
  {
   "cell_type": "code",
   "execution_count": null,
   "id": "7918647f-17cc-46e6-9e0d-5eb1574bac9d",
   "metadata": {},
   "outputs": [],
   "source": [
    "The same loop can be done using a range, but the syntax is more complicated:"
   ]
  },
  {
   "cell_type": "code",
   "execution_count": null,
   "id": "76ffb036-8794-442d-8143-efa60c98378b",
   "metadata": {},
   "outputs": [],
   "source": [
    "# this code outputs a greeting to every student but uses range\n",
    "students = [\"Alice\", \"Bob\", \"Charlie\"]\n",
    "for i in range(0,len(students)):\n",
    "    print(\"Hello,\", students[i])"
   ]
  },
  {
   "cell_type": "code",
   "execution_count": null,
   "id": "5c109dd7-129b-4dc3-96ab-694bbaa22254",
   "metadata": {},
   "outputs": [],
   "source": [
    "HARNESSING LOOPS FOR ITERATION"
   ]
  },
  {
   "cell_type": "code",
   "execution_count": null,
   "id": "c483c0ed-d618-4df9-8d75-21c3e485f860",
   "metadata": {},
   "outputs": [],
   "source": [
    "while loops are invaluable for tasks with an unknown number of repetitions. \n",
    "Imagine you want to simulate a dice roll until you get a 6"
   ]
  },
  {
   "cell_type": "code",
   "execution_count": null,
   "id": "9f525c5b-b7bc-45d3-9680-e41437db65ef",
   "metadata": {},
   "outputs": [],
   "source": [
    "# this code imports random and then simulates a dice roll until a 6 is rolled\n",
    "import random\n",
    "roll = 0\n",
    "while roll != 6:\n",
    "    roll = random.randint(1, 6) \n",
    "    print(\"You rolled a\", roll)"
   ]
  },
  {
   "cell_type": "code",
   "execution_count": null,
   "id": "327b8d1a-ab05-4137-af82-a8670adbb16d",
   "metadata": {},
   "outputs": [],
   "source": [
    "COUNTING AND PROCESSING DATA WITH LOOPS"
   ]
  },
  {
   "cell_type": "code",
   "execution_count": null,
   "id": "02a09556-bf53-4df3-86a6-88500e1c2d94",
   "metadata": {},
   "outputs": [],
   "source": [
    "Loops seamlessly integrate with counting and data manipulation."
   ]
  },
  {
   "cell_type": "code",
   "execution_count": null,
   "id": "bfaa0841-7118-4004-9c8d-94cc20eee9e7",
   "metadata": {},
   "outputs": [],
   "source": [
    "# this code calculates the sum of numbers from 1 to 100\n",
    "total = 0\n",
    "for number in range(1, 101): \n",
    "    total += number\n",
    "    print(\"The sum is:\", total)"
   ]
  },
  {
   "cell_type": "code",
   "execution_count": null,
   "id": "20970772-eee7-4a6d-a590-481b84594967",
   "metadata": {},
   "outputs": [],
   "source": [
    "The range() function generates a sequence of numbers, \n",
    "and the for loop iterates over this sequence, accumulating the sum in the total variable. \n",
    "This demonstrates the power of loops in performing calculations over a range of values. \n",
    "The range() function is particularly useful in this context, \n",
    "as it provides a convenient way to generate sequences of numbers without manually creating a list."
   ]
  },
  {
   "cell_type": "code",
   "execution_count": null,
   "id": "cfb11ea8-178c-42b3-a6f0-7d47635ef16a",
   "metadata": {},
   "outputs": [],
   "source": [
    "while loops can handle more complex tasks"
   ]
  },
  {
   "cell_type": "code",
   "execution_count": null,
   "id": "c129bb66-abc5-4ca9-b82f-fd84e80bc03a",
   "metadata": {},
   "outputs": [],
   "source": [
    "# this code filters even numbers from a list\n",
    "numbers = [1, 2, 3, 4, 5]\n",
    "index = 0\n",
    "\n",
    "while index < len(numbers):\n",
    "    if numbers[index] % 2 == 0:\n",
    "        print(numbers[index])\n",
    "    index += 1"
   ]
  },
  {
   "cell_type": "code",
   "execution_count": null,
   "id": "01fef978-0a89-4958-89ca-7e9f78a1eb66",
   "metadata": {},
   "outputs": [],
   "source": [
    "NESTED LOOPS"
   ]
  },
  {
   "cell_type": "code",
   "execution_count": null,
   "id": "5fe96187-489c-4748-ab63-2b419014153a",
   "metadata": {},
   "outputs": [],
   "source": [
    "The true power of loops shines when they're nested – one loop nestled within another. \n",
    "This nesting opens the door to iteration, allowing you to use complex data structures \n",
    "and perform intricate operations with ease."
   ]
  },
  {
   "cell_type": "code",
   "execution_count": null,
   "id": "f1a9fea0-a85d-45ea-ab8f-c2b59ee785f0",
   "metadata": {},
   "outputs": [],
   "source": [
    "# this code generates a classic multiplication table\n",
    "for i in range(1, 11):\n",
    "    for j in range(1, 11):\n",
    "        print(i, \"*\", j, \"=\", i * j, end=\"\\t\") # Print the equation\n",
    "    print() # Move to the next line after each row"
   ]
  },
  {
   "cell_type": "code",
   "execution_count": null,
   "id": "54fca6db-b448-4767-be3a-7706c24c6d5e",
   "metadata": {},
   "outputs": [],
   "source": [
    "# this code uses a for loop to display values that are divisble by 3 and 4\n",
    "max_value = 50\n",
    "# Loop through numbers from 0 to 100 (using 101 to include 100)\n",
    "for num in range(max_value):\n",
    "    # Check if number is divisible by both 3 and 4\n",
    "    if num % 3 == 0 and num % 4 == 0:\n",
    "        print(num)"
   ]
  },
  {
   "cell_type": "code",
   "execution_count": null,
   "id": "fadb1d33-1de9-4866-ae52-8f45386fbd8e",
   "metadata": {},
   "outputs": [],
   "source": [
    "USAGE OF LOOPS"
   ]
  },
  {
   "cell_type": "code",
   "execution_count": null,
   "id": "5eb9e0f0-e8e1-4f02-ae4f-98e3b43303d1",
   "metadata": {},
   "outputs": [],
   "source": [
    "Choose the right loop: Use for loops for known iterations, and while loops for conditions. \n",
    "This is important for code readability and maintainability."
   ]
  },
  {
   "cell_type": "code",
   "execution_count": null,
   "id": "b07aa7f2-f780-43a2-9b55-42f5c22fc526",
   "metadata": {},
   "outputs": [],
   "source": [
    "Keep it concise: Avoid overly complex loop bodies; break down tasks into functions if needed. \n",
    "This makes your code more modular and easier to understand."
   ]
  },
  {
   "cell_type": "code",
   "execution_count": null,
   "id": "410b46d7-2b6c-4f50-97e5-c29fdaabb2df",
   "metadata": {},
   "outputs": [],
   "source": [
    "Use meaningful names: Descriptive variable names enhance code readability. \n",
    "This is crucial for collaboration and future maintenance."
   ]
  },
  {
   "cell_type": "code",
   "execution_count": null,
   "id": "98ab6ac1-9987-4d12-a129-967f3c858a3e",
   "metadata": {},
   "outputs": [],
   "source": [
    "Indent properly: Consistent indentation is crucial for understanding loop structure. \n",
    "This is a fundamental aspect of Python syntax."
   ]
  },
  {
   "cell_type": "code",
   "execution_count": null,
   "id": "05228e6a-ea84-4823-9bda-6dbac7700bd4",
   "metadata": {},
   "outputs": [],
   "source": [
    "Efficiency matters: Optimize loops by minimizing calculations within the loop body. \n",
    "Consider using list comprehensions or generator expressions when appropriate, \n",
    "as they can often be more efficient than traditional for loops."
   ]
  },
  {
   "cell_type": "code",
   "execution_count": null,
   "id": "34a873df-1660-4341-b735-bb8ce3916772",
   "metadata": {},
   "outputs": [],
   "source": [
    "for and while loops are cornerstones of Python programming, \n",
    "enabling developers to streamline repetitive tasks, automate processes, \n",
    "and efficiently handle data."
   ]
  }
 ],
 "metadata": {
  "kernelspec": {
   "display_name": "Python 3 (ipykernel)",
   "language": "python",
   "name": "python3"
  },
  "language_info": {
   "codemirror_mode": {
    "name": "ipython",
    "version": 3
   },
   "file_extension": ".py",
   "mimetype": "text/x-python",
   "name": "python",
   "nbconvert_exporter": "python",
   "pygments_lexer": "ipython3",
   "version": "3.12.7"
  }
 },
 "nbformat": 4,
 "nbformat_minor": 5
}
