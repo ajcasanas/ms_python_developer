{
 "cells": [
  {
   "cell_type": "code",
   "execution_count": null,
   "id": "bafeadb2-b7cf-4a8d-83c4-8db7eb665649",
   "metadata": {},
   "outputs": [],
   "source": [
    "Hello World Program Steps"
   ]
  },
  {
   "cell_type": "code",
   "execution_count": null,
   "id": "c78232e0-0b03-41b3-ad72-aab545287f53",
   "metadata": {},
   "outputs": [],
   "source": [
    "Step 1: Create a new file and save it with a Python extension .py"
   ]
  },
  {
   "cell_type": "code",
   "execution_count": null,
   "id": "a68baf3c-597e-4ee2-98d9-4dd0f2437aee",
   "metadata": {},
   "outputs": [],
   "source": [
    "Step 2: Write the following code:"
   ]
  },
  {
   "cell_type": "code",
   "execution_count": 3,
   "id": "49be3038-829e-4672-9d7d-cc16eb813ee8",
   "metadata": {},
   "outputs": [
    {
     "name": "stdout",
     "output_type": "stream",
     "text": [
      "Hello, world!\n"
     ]
    }
   ],
   "source": [
    "print(\"Hello, world!\")"
   ]
  }
 ],
 "metadata": {
  "kernelspec": {
   "display_name": "Python 3 (ipykernel)",
   "language": "python",
   "name": "python3"
  },
  "language_info": {
   "codemirror_mode": {
    "name": "ipython",
    "version": 3
   },
   "file_extension": ".py",
   "mimetype": "text/x-python",
   "name": "python",
   "nbconvert_exporter": "python",
   "pygments_lexer": "ipython3",
   "version": "3.12.7"
  }
 },
 "nbformat": 4,
 "nbformat_minor": 5
}
